{
 "cells": [
  {
   "cell_type": "markdown",
   "id": "d4be3b62",
   "metadata": {},
   "source": [
    "# Скрипт для прогрева кошельков в EVM-сетях"
   ]
  },
  {
   "cell_type": "markdown",
   "id": "c7a46aa6",
   "metadata": {},
   "source": [
    "Идея скрипта @S7miles. Сообщества https://t.me/sybilders и https://t.me/shitbilders. Купить готовый софт http://t.me/sybilders_bot.\n",
    "            \n",
    "            "
   ]
  },
  {
   "cell_type": "markdown",
   "id": "0538e4eb",
   "metadata": {},
   "source": [
    "## Что делает этот скрипт"
   ]
  },
  {
   "cell_type": "markdown",
   "id": "042a64b1",
   "metadata": {},
   "source": [
    "Для работы используются:\n",
    "- txt файл с приватными ключалми от кошельков, для которых будут осуществляться транзакции,\n",
    "- модуль chain_settings.py в котором задаются настройки для сетей, в которых будут осуществляться транзакции.\n",
    "\n",
    "Используются два вида транзакций:\n",
    "- SELF - отправка идет на свой адрес,\n",
    "- RANDOM - генерируется случайный адрес, на него отправляется некоторое количество монет.\n",
    "\n",
    "Для каждого кошелька из списка берется сеть, определяется рандомное количество транзакций, в рамках этого количества рандомно выбирается вид транзакции. Например, в сети BSC будет совершено 12 транзакций, из них 3 будет SELF, а 9 - RANDOM и т.п. После каждой транзакции процесс засыпает на время, которое определяется рандомно.\n",
    "\n",
    "После завершения всех транзакций для всех адресов, экспортируется отчет в csv."
   ]
  },
  {
   "cell_type": "markdown",
   "id": "a1266f06",
   "metadata": {},
   "source": [
    "# Синхронный вариант кода"
   ]
  },
  {
   "cell_type": "markdown",
   "id": "f826a42b",
   "metadata": {},
   "source": [
    "Все инструкции выполняются по очереди."
   ]
  },
  {
   "cell_type": "markdown",
   "id": "0451b2af",
   "metadata": {},
   "source": [
    "## Модуль chain_settings.py"
   ]
  },
  {
   "cell_type": "markdown",
   "id": "787811a9",
   "metadata": {},
   "source": [
    "В файле в виде словарей перечислены сети, в которых будут совершаться транзакции.\n",
    "\n",
    "Настройки сетей:<br>\n",
    "**name** - название сети, использует для вывода в консоль и в отчете<br>\n",
    "**url** - используется для подключения<br>\n",
    "<br>\n",
    "\n",
    "**min_amount_for_sending** - минимальная сумма для отправки<br>\n",
    "**max_amount_for_sending** - максимальная сумма для отправки<br>\n",
    "Из диапазона этих чисел будет определено случайное число для отправки.\n",
    "<br>\n",
    "<br>\n",
    "**min_transactions** - минимальное количество транзакций, которое должно быть совершено в сети<br>\n",
    "**max_transactions** - максимально<br>\n",
    "Из диапазона этих чисел будет определено случайное количество транзакций.\n",
    "<br>\n",
    "<br>\n",
    "**explorer_url** - url эксплорера, к которому будет подставлен хэш транзакции<br>\n",
    "<br>\n",
    "<br>\n",
    "Можно убрать параметры, если они избыточны, или добавить новые."
   ]
  },
  {
   "cell_type": "code",
   "execution_count": 9,
   "id": "7a845498",
   "metadata": {},
   "outputs": [],
   "source": [
    "polygon = {\n",
    "            'name': 'Polygon',\n",
    "            'url':'https://polygon.llamarpc.com',\n",
    "            'min_amount_for_sending':0.0001,\n",
    "            'max_amount_for_sending':0.001,\n",
    "            'min_transactions':5,\n",
    "            'max_transactions':10,\n",
    "            'explorer_url':'https://polygonscan.com/tx/'\n",
    "            }"
   ]
  },
  {
   "cell_type": "code",
   "execution_count": 10,
   "id": "c274ca2d",
   "metadata": {},
   "outputs": [],
   "source": [
    "bsc = {\n",
    "            'name': 'Binance Smart Chain',\n",
    "            'url':'https://bsc.publicnode.com',\n",
    "            'min_amount_for_sending':0.0001,\n",
    "            'max_amount_for_sending':0.001,\n",
    "            'min_transactions':5,\n",
    "            'max_transactions':10,\n",
    "            'explorer_url':'https://bscscan.com/tx/'\n",
    "            }"
   ]
  },
  {
   "cell_type": "code",
   "execution_count": 11,
   "id": "2c6879cd",
   "metadata": {},
   "outputs": [],
   "source": [
    "avalanche = {\n",
    "            'name': 'Avalanche',\n",
    "            'url':'https://avalanche-c-chain.publicnode.com',\n",
    "            'min_amount_for_sending':0.0001,\n",
    "            'max_amount_for_sending':0.001,\n",
    "            'min_transactions':5,\n",
    "            'max_transactions':10,\n",
    "            'explorer_url':'https://snowtrace.io/tx/'\n",
    "            }"
   ]
  },
  {
   "cell_type": "markdown",
   "id": "b655a2cf",
   "metadata": {},
   "source": [
    "После того, как вы задали пресеты для сетей, в список _ _all_ _ передайте названия сетей (словари), которые будут использоваться для отправки."
   ]
  },
  {
   "cell_type": "code",
   "execution_count": 12,
   "id": "f79197ce",
   "metadata": {},
   "outputs": [],
   "source": [
    "__all__ = ['polygon', 'bsc', 'avalanche']"
   ]
  },
  {
   "cell_type": "markdown",
   "id": "5c36ff37",
   "metadata": {},
   "source": [
    "## Config.py"
   ]
  },
  {
   "cell_type": "markdown",
   "id": "ec327ca1",
   "metadata": {},
   "source": [
    "Название файла с приватниками:"
   ]
  },
  {
   "cell_type": "code",
   "execution_count": 13,
   "id": "189982cc",
   "metadata": {},
   "outputs": [],
   "source": [
    "TXT_WITH_PRIVATE_KEYS = 'private_keys.txt'"
   ]
  },
  {
   "cell_type": "markdown",
   "id": "bb5f15ba",
   "metadata": {},
   "source": [
    "Название для таблицы с отчетом, которая будет создана:"
   ]
  },
  {
   "cell_type": "code",
   "execution_count": 14,
   "id": "5df0ed7b",
   "metadata": {},
   "outputs": [],
   "source": [
    "REPORT_TABLE_NAME = 'report_table.csv'"
   ]
  },
  {
   "cell_type": "markdown",
   "id": "4068cd84",
   "metadata": {},
   "source": [
    "Количество вариаций, которое будет в диапазоне между min_amount_for_sending и max_amount_for_sending - в настройках chain_settings.py. Из всех вариантов будет рандомно выбрана сумма для отправки:"
   ]
  },
  {
   "cell_type": "code",
   "execution_count": 15,
   "id": "c8438dca",
   "metadata": {},
   "outputs": [],
   "source": [
    "NUMBER_OF_VARIATION_BETWEEN_VALUES = 50"
   ]
  },
  {
   "cell_type": "markdown",
   "id": "68ee1566",
   "metadata": {},
   "source": [
    "Минимальная задержка между транзакциями"
   ]
  },
  {
   "cell_type": "code",
   "execution_count": 16,
   "id": "d6bda3ce",
   "metadata": {},
   "outputs": [],
   "source": [
    "MIN_TIMESLEEP_BETWEEN_TRANSACTIONS = 100"
   ]
  },
  {
   "cell_type": "markdown",
   "id": "d3a959f6",
   "metadata": {},
   "source": [
    "Максимальная задержка между транзакциями"
   ]
  },
  {
   "cell_type": "code",
   "execution_count": 17,
   "id": "96e1759b",
   "metadata": {},
   "outputs": [],
   "source": [
    "MAX_TIMESLEEP_BETWEEN_TRANSACTIONS = 250"
   ]
  },
  {
   "cell_type": "markdown",
   "id": "f4ba8b5b",
   "metadata": {},
   "source": [
    "Из этого диапазона будет выбрано рандомное значение, на которое скрипт остановится перед тем, как сделать новую транзакцию. Ставьте значения побольше, чтобы скрипт не делал несколько транзакций за минуту."
   ]
  },
  {
   "cell_type": "markdown",
   "id": "03d592f4",
   "metadata": {},
   "source": [
    "## Модуль functions.py"
   ]
  },
  {
   "cell_type": "markdown",
   "id": "37c4aa22",
   "metadata": {},
   "source": [
    "### Библиотеки"
   ]
  },
  {
   "cell_type": "code",
   "execution_count": 18,
   "id": "f651d6aa",
   "metadata": {},
   "outputs": [],
   "source": [
    "import time\n",
    "import random\n",
    "from datetime import datetime\n",
    "\n",
    "import numpy as np\n",
    "import pandas as pd\n",
    "\n",
    "from web3 import Web3\n",
    "\n",
    "from config import REPORT_TABLE_NAME, NUMBER_OF_VARIATIONS_BETWEEN_SENDING_AMOUNT, MIN_TIMESLEEP_BETWEEN_TRANSACTIONS, \\\n",
    "    MAX_TIMESLEEP_BETWEEN_TRANSACTIONS\n",
    "import chain_settings\n"
   ]
  },
  {
   "cell_type": "markdown",
   "id": "cf391d81",
   "metadata": {},
   "source": [
    "**time** - для задержек<br>\n",
    "**random** - для рандомизации<br>\n",
    "**datetime** - дата, которая испоьзуется в отчете<br>\n",
    "**pandas** - инструмент для работы с таблицами, используется для загрузки/создания таблицы с отчетом, для записи данных<br>\n",
    "**numpy** - используется для создания диапазона из любых видов чисел - целых или десятичных<br>\n",
    "**web3** - подключение к rpc, создание, подпись и отправка транзакций<br>\n",
    "**config** - из файла явно импортируются переменные<br>\n",
    "**chain_settings** - модуль с настройками чейнов, в которых будут совершаться транзы<br>"
   ]
  },
  {
   "cell_type": "markdown",
   "id": "638cfeca",
   "metadata": {},
   "source": [
    "### Создание отчета"
   ]
  },
  {
   "cell_type": "markdown",
   "id": "597d65af",
   "metadata": {},
   "source": [
    "Для отчетов создается пустой лист:"
   ]
  },
  {
   "cell_type": "code",
   "execution_count": 19,
   "id": "afc7b409",
   "metadata": {},
   "outputs": [],
   "source": [
    "global_list_for_report = list()"
   ]
  },
  {
   "cell_type": "markdown",
   "id": "3fe2d804",
   "metadata": {},
   "source": [
    "#### Создание отчета"
   ]
  },
  {
   "cell_type": "markdown",
   "id": "7057208e",
   "metadata": {},
   "source": [
    "Принимает название чейна, публичный адрес кошелька, тип транзакции, статус транзакции, количество отправленных монет, url для просмотра транзакции, ошибку. Все записывается в словарь, затем добавляется в список global_list_for_report:"
   ]
  },
  {
   "cell_type": "code",
   "execution_count": 20,
   "id": "1f6d1c4c",
   "metadata": {},
   "outputs": [],
   "source": [
    "def save_report_to_global_list(chain_name, wallet_address,\n",
    "                               transaction_type, transaction_status,\n",
    "                               amount, transaction_explorer_url, error):\n",
    "    d = dict()\n",
    "    d['chain_name'] = chain_name\n",
    "    d['wallet_address'] = wallet_address\n",
    "    d['transaction_type'] = transaction_type\n",
    "    d['transaction_status'] = transaction_status\n",
    "    d['sent_amount'] = amount\n",
    "    d['transaction_url'] = transaction_explorer_url\n",
    "    d['date'] = datetime.now().strftime('%d-%m-%Y')\n",
    "    d['error'] = error\n",
    "\n",
    "    global global_list_for_report\n",
    "    global_list_for_report.append(d)"
   ]
  },
  {
   "cell_type": "markdown",
   "id": "56c5771f",
   "metadata": {},
   "source": [
    "Экспорт отчета в csv. Из списка со словарями global_list_for_report создается датафрейм и экспортируется в csv. Возможно не эргономично использовать мощный pandas для такой задачи, но код очень удобный:)"
   ]
  },
  {
   "cell_type": "code",
   "execution_count": 21,
   "id": "b76c44ab",
   "metadata": {},
   "outputs": [],
   "source": [
    "def export_report():\n",
    "    global global_list_for_report\n",
    "    df = pd.DataFrame.from_dict(global_list_for_report)\n",
    "    df.to_csv(REPORT_TABLE_NAME, index=False)"
   ]
  },
  {
   "cell_type": "markdown",
   "id": "2e678ca6",
   "metadata": {},
   "source": [
    "## Рандомный выбор значений"
   ]
  },
  {
   "cell_type": "markdown",
   "id": "f230b5aa",
   "metadata": {},
   "source": [
    "Функция, которая возвращает рандомное значение из диапазона:"
   ]
  },
  {
   "cell_type": "code",
   "execution_count": 22,
   "id": "aab5dd58",
   "metadata": {},
   "outputs": [],
   "source": [
    "def create_random_value_from_range(min_value, max_value):\n",
    "    random_value_between_range = random.choice(range(min_value, max_value))\n",
    "\n",
    "    return random_value_between_range"
   ]
  },
  {
   "cell_type": "markdown",
   "id": "ac6c74cc",
   "metadata": {},
   "source": [
    "### Рандомный выбор количества монет для отправки"
   ]
  },
  {
   "cell_type": "markdown",
   "id": "69517067",
   "metadata": {},
   "source": [
    "Принимает минимальное и максимальное значение из настроек чейнов и количество вариаций. Для этой задачи используется numpy linspace, который создает диапазон из чисел с плавающей точкой, чтобы можно было отправлять маленькие суммы:"
   ]
  },
  {
   "cell_type": "code",
   "execution_count": 23,
   "id": "c74ee6a9",
   "metadata": {},
   "outputs": [],
   "source": [
    "def create_random_amount_for_sending(min_value_for_sending, max_value_for_sending,\n",
    "                                     number_of_variations_between_sending_amount):\n",
    "    random_position = random.choice(range(number_of_variations_between_sending_amount))\n",
    "\n",
    "    random_amount_for_sending = np.linspace(min_value_for_sending,\n",
    "                                            max_value_for_sending,\n",
    "                                            num=number_of_variations_between_sending_amount)[random_position]\n",
    "\n",
    "    return random_amount_for_sending"
   ]
  },
  {
   "cell_type": "markdown",
   "id": "1b0a9dc2",
   "metadata": {},
   "source": [
    "numpy linspace возвращает количество значений в диапазоне"
   ]
  },
  {
   "cell_type": "code",
   "execution_count": 24,
   "id": "f29a5e3a",
   "metadata": {
    "scrolled": false
   },
   "outputs": [
    {
     "data": {
      "text/plain": [
       "array([0.001     , 0.02138776, 0.04177551, 0.06216327, 0.08255102,\n",
       "       0.10293878, 0.12332653, 0.14371429, 0.16410204, 0.1844898 ,\n",
       "       0.20487755, 0.22526531, 0.24565306, 0.26604082, 0.28642857,\n",
       "       0.30681633, 0.32720408, 0.34759184, 0.36797959, 0.38836735,\n",
       "       0.4087551 , 0.42914286, 0.44953061, 0.46991837, 0.49030612,\n",
       "       0.51069388, 0.53108163, 0.55146939, 0.57185714, 0.5922449 ,\n",
       "       0.61263265, 0.63302041, 0.65340816, 0.67379592, 0.69418367,\n",
       "       0.71457143, 0.73495918, 0.75534694, 0.77573469, 0.79612245,\n",
       "       0.8165102 , 0.83689796, 0.85728571, 0.87767347, 0.89806122,\n",
       "       0.91844898, 0.93883673, 0.95922449, 0.97961224, 1.        ])"
      ]
     },
     "execution_count": 24,
     "metadata": {},
     "output_type": "execute_result"
    }
   ],
   "source": [
    "np.linspace(0.001, 1, num=50)"
   ]
  },
  {
   "cell_type": "markdown",
   "id": "c298fa67",
   "metadata": {},
   "source": [
    "Из диапазона, который равен количеству вариаций выбирается число:"
   ]
  },
  {
   "cell_type": "code",
   "execution_count": 25,
   "id": "17651beb",
   "metadata": {},
   "outputs": [
    {
     "data": {
      "text/plain": [
       "22"
      ]
     },
     "execution_count": 25,
     "metadata": {},
     "output_type": "execute_result"
    }
   ],
   "source": [
    "random.choice(range(50))"
   ]
  },
  {
   "cell_type": "markdown",
   "id": "8535f969",
   "metadata": {},
   "source": [
    "Которое используется в качестве случайного индекса для выбора числа из numpy linspace"
   ]
  },
  {
   "cell_type": "code",
   "execution_count": 27,
   "id": "2ad8f5f8",
   "metadata": {},
   "outputs": [
    {
     "data": {
      "text/plain": [
       "0.449530612244898"
      ]
     },
     "execution_count": 27,
     "metadata": {},
     "output_type": "execute_result"
    }
   ],
   "source": [
    "np.linspace(0.001, 1, num=50)[22]"
   ]
  },
  {
   "cell_type": "markdown",
   "id": "bff73b73",
   "metadata": {},
   "source": [
    "Такое количество монет будет использовано в транзакции"
   ]
  },
  {
   "cell_type": "markdown",
   "id": "9c8d9429",
   "metadata": {},
   "source": [
    "## Транзакции"
   ]
  },
  {
   "cell_type": "markdown",
   "id": "5956600f",
   "metadata": {},
   "source": [
    "### Настройка транзакции"
   ]
  },
  {
   "cell_type": "markdown",
   "id": "7b8e4a49",
   "metadata": {},
   "source": [
    "Принимает подключение, адрес отправителя, адрес получателя, количество монет для отправки.<br>\n",
    "В amount_wei конвертируется отправляемое значение из ether в wei.<br>\n",
    "В gas_price определяется цена газа, в estimated_gas оценка лимита газа для отправки крипты.<br>\n",
    "В nonce определяется номер транзакции.<br>\n",
    "В словаре transaction записываются все параметры будущей транзакции.<br>\n",
    "Функция возращает словарь transaction."
   ]
  },
  {
   "cell_type": "code",
   "execution_count": 28,
   "id": "8db44546",
   "metadata": {},
   "outputs": [],
   "source": [
    "def transaction_settings(web3, from_address, to_address, amount):\n",
    "    amount_wei = web3.to_wei(amount, 'ether')\n",
    "\n",
    "    gas_price = web3.eth.gas_price\n",
    "\n",
    "    estimated_gas = web3.eth.estimate_gas({\n",
    "        'to': to_address,\n",
    "        'value': amount_wei,\n",
    "    })\n",
    "\n",
    "    nonce = web3.eth.get_transaction_count(from_address)\n",
    "\n",
    "    transaction = {\n",
    "        'chainId': web3.eth.chain_id,\n",
    "        'from': from_address,\n",
    "        'to': to_address,\n",
    "        'value': amount_wei,\n",
    "        'nonce': nonce,\n",
    "        'gasPrice': gas_price,\n",
    "        'gas': estimated_gas,\n",
    "    }\n",
    "\n",
    "    return transaction"
   ]
  },
  {
   "cell_type": "markdown",
   "id": "1d50cd8c",
   "metadata": {},
   "source": [
    "### Подпись и отправка транзакции"
   ]
  },
  {
   "cell_type": "markdown",
   "id": "5cb05331",
   "metadata": {},
   "source": [
    "Принимает подключение, адрес отправителя, адрес получателя, количество монет для отправки, приватный ключ.<br>\n",
    "Настройки будущей транзы записываются в create_transaction.<br>\n",
    "В signed_transaction передаются настройки и приватный ключ, транзакция подписывается.<br>\n",
    "В transaction_hash записывается хэш отправленной транзакции.<br>\n",
    "Функция возвращает хэш."
   ]
  },
  {
   "cell_type": "code",
   "execution_count": 29,
   "id": "bd598189",
   "metadata": {},
   "outputs": [],
   "source": [
    "def create_sign_send_transaction(web3, from_address, to_address, amount, private_key):\n",
    "    create_transaction = transaction_settings(\n",
    "        web3=web3,\n",
    "        from_address=from_address,\n",
    "        to_address=to_address,\n",
    "        amount=amount\n",
    "    )\n",
    "\n",
    "    signed_transaction = web3.eth.account.sign_transaction(create_transaction, private_key)\n",
    "\n",
    "    transaction_hash = web3.eth.send_raw_transaction(signed_transaction.rawTransaction)\n",
    "\n",
    "    return transaction_hash.hex()"
   ]
  },
  {
   "cell_type": "markdown",
   "id": "310a5bd0",
   "metadata": {},
   "source": [
    "### SELF транзакция"
   ]
  },
  {
   "cell_type": "markdown",
   "id": "0f6b3d46",
   "metadata": {},
   "source": [
    "Принимает подключение, количество монет для отправки, приватник, минимальную и максимальную задержку между транзакциями, название чейна и url эксплорера.<br>\n",
    "<br>\n",
    "Перед отправкой в timesleep_value генерируется рандомное число из небольшого диапазона, скрипт останавливается на это время.<br>\n",
    "<br>\n",
    "В my_address записывается публичный адрес, который определяется из приватного ключа.<br>\n",
    "<br>\n",
    "В create_sign_send_transaction осуществляется отправка, в качестве отправителя и получателя передается my_address. Хэш записывается в transaction_hash.<br>\n",
    "<br>\n",
    "В save_report_to_global_list записывается отчет, в функцию передается название сети, публичный адрес, тип транзакции, статус SUCCESS, сумма, url, который получается в результате подстановки параметра из chain_settings.py и хэша транзы, ошибки нет, поэтому передается прочерк.<br>\n",
    "<br>\n",
    "В timesleep_value генерируется рандомное число из переданных в функцию значений. Скрипт засыпает.<br>\n",
    "<br>\n",
    "Если срабатывает блок except, в отчет записывается название сети, публичный адрес, тип транзакции, статус ERROR, сумма, вместо url передается прочерк, код ошибки."
   ]
  },
  {
   "cell_type": "code",
   "execution_count": 30,
   "id": "7f0caca5",
   "metadata": {},
   "outputs": [],
   "source": [
    "def self_transaction(web3, amount, private_key,\n",
    "                     min_timesleep_between_transactions,\n",
    "                     max_timesleep_between_transactions,\n",
    "                     chain_name, explorer_url):\n",
    "\n",
    "    try:\n",
    "        timesleep_value = create_random_value_from_range(5, 15)\n",
    "        time.sleep(timesleep_value)\n",
    "\n",
    "        transaction_type = 'SELF-transaction'\n",
    "        print(f'Key {private_key[:6]}...{private_key[-6:]}, {transaction_type} {chain_name}')\n",
    "\n",
    "        my_address = web3.eth.account.from_key(private_key).address\n",
    "\n",
    "        transaction_hash = create_sign_send_transaction(web3, my_address, my_address,\n",
    "                                                        amount, private_key)\n",
    "\n",
    "        print(f'Hash {transaction_type} {chain_name} {transaction_hash}')\n",
    "\n",
    "        print(f'Recording data in a report')\n",
    "        save_report_to_global_list(chain_name, my_address,\n",
    "                                   transaction_type, 'SUCCESS',\n",
    "                                   amount, f'{explorer_url}{transaction_hash}', '-')\n",
    "\n",
    "        timesleep_value = create_random_value_from_range(min_timesleep_between_transactions,\n",
    "                                                         max_timesleep_between_transactions)\n",
    "        print(f'Pause {timesleep_value} sec. after {transaction_type} {chain_name} ', '\\n')\n",
    "        time.sleep(timesleep_value)\n",
    "\n",
    "    except Exception as error:\n",
    "        print(f'{transaction_type} {chain_name}, error -  {error}', '\\n')\n",
    "        save_report_to_global_list(chain_name, my_address,\n",
    "                                   transaction_type, 'ERROR',\n",
    "                                   amount, '-', error)"
   ]
  },
  {
   "cell_type": "markdown",
   "id": "3e27748a",
   "metadata": {},
   "source": [
    "### RANDOM транзакция"
   ]
  },
  {
   "cell_type": "markdown",
   "id": "432fae0a",
   "metadata": {},
   "source": [
    "Почти такая же функция как self_transaction, отличается наличием кода на 12-16 строках.<br>\n",
    "<br>\n",
    "Принимает подключение, количество монет для отправки, приватник, минимальную и максимальную задержку между транзакциями, название чейна и url эксплорера.<br>\n",
    "<br>\n",
    "Перед отправкой в timesleep_value генерируется рандомное число из небольшого диапазона, скрипт останавливается на это время.<br>\n",
    "<br>\n",
    "В account создается новый аккаунт. В random_wallet записывается публичный адрес созданного аккаунта, на который будет осуществляться отправка.<br>\n",
    "<br>\n",
    "В my_address записывается публичный адрес, который определяется из приватного ключа.<br>\n",
    "<br>\n",
    "В prepared_wallet записывается созданный публичный адрес, приведенный к корректному виду с помощью to_checksum_address.<br>\n",
    "<br>\n",
    "В create_sign_send_transaction осуществляется отправка, в качестве отправителя и получателя передается my_address. Хэш записывается в transaction_hash.<br>\n",
    "<br>\n",
    "В save_report_to_global_list записывается отчет, в функцию передается название сети, публичный адрес, тип транзакции, статус SUCCESS, сумма, url, который получается в результате подстановки параметра из chain_settings.py и хэша транзы, ошибки нет, поэтому передается прочерк.<br>\n",
    "<br>\n",
    "В timesleep_value генерируется рандомное число из переданных в функцию значений. Скрипт засыпает.<br>\n",
    "<br>\n",
    "Если срабатывает блок except, в отчет записывается название сети, публичный адрес, тип транзакции, статус ERROR, сумма, вместо url передается прочерк, код ошибки."
   ]
  },
  {
   "cell_type": "code",
   "execution_count": 31,
   "id": "007891ec",
   "metadata": {},
   "outputs": [],
   "source": [
    "def random_transaction(web3, amount, private_key,\n",
    "                       min_timesleep_between_transactions,\n",
    "                       max_timesleep_between_transactions,\n",
    "                       chain_name, explorer_url):\n",
    "    try:\n",
    "        timesleep_value = create_random_value_from_range(5, 15)\n",
    "        time.sleep(timesleep_value)\n",
    "\n",
    "        transaction_type = 'RANDOM-transaction'\n",
    "        print(f'Key {private_key[:6]}...{private_key[-6:]}, {transaction_type} {chain_name}', '\\n')\n",
    "\n",
    "        account = web3.eth.account.create()\n",
    "        random_wallet = account.address\n",
    "\n",
    "        my_address = web3.eth.account.from_key(private_key).address\n",
    "        prepared_wallet = web3.to_checksum_address(random_wallet)\n",
    "\n",
    "        transaction_hash = create_sign_send_transaction(web3, my_address, prepared_wallet,\n",
    "                                                        amount, private_key)\n",
    "\n",
    "        print(f'Hash {transaction_type} {chain_name} {transaction_hash}' )\n",
    "\n",
    "        print(f'Recording data in a report')\n",
    "        save_report_to_global_list(chain_name, my_address,\n",
    "                                   transaction_type, 'SUCCESS',\n",
    "                                   amount, f'{explorer_url}{transaction_hash}', '-')\n",
    "\n",
    "        timesleep_value = create_random_value_from_range(min_timesleep_between_transactions,\n",
    "                                                         max_timesleep_between_transactions)\n",
    "        print(f'Pause {timesleep_value} sec. after {transaction_type} {chain_name} ', '\\n')\n",
    "        time.sleep(timesleep_value)\n",
    "\n",
    "    except Exception as error:\n",
    "        print(f'{transaction_type} {chain_name}, error -  {error}', '\\n')\n",
    "        save_report_to_global_list(chain_name, my_address,\n",
    "                                   transaction_type, 'ERROR',\n",
    "                                   amount, '-', error)"
   ]
  },
  {
   "cell_type": "markdown",
   "id": "b30a6783",
   "metadata": {},
   "source": [
    "### Главная функция"
   ]
  },
  {
   "cell_type": "markdown",
   "id": "4f85207a",
   "metadata": {},
   "source": [
    "Принимает приватник.<br>\n",
    "<br>\n",
    "Запускается цикл, который перебирает словари из chain_settigs.py, указанные в _ _ all _ _<br>\n",
    "<br>\n",
    "\n",
    "В переменную web3 записывается объект созданного подключения. Если подключение False (if not web3.is_connected()), процесс останавливается. Записывается в отчет. Для отчета в этой части кода генерируется публичный адрес my_address из приватника.<br>\n",
    "<br>\n",
    "В transactions_quantity записывается рандомное количество транзакций, которое будет совершено в сети. Число генерируется из диапазона, указанного в настройках в chain_settigs.py.<br>\n",
    "<br>\n",
    "Запускается цикл по количеству транзакций в значении transactions_quantity.<br>\n",
    "<br>\n",
    "В amount определяется случайная сумма к отправке, генерируется функцией create_random_amount_for_sending, которая берет диапазон из настроек chain_settigs.py и количество вариаций внутри этого диапазона NUMBER_OF_VARIATIONS_BETWEEN_SENDING_AMOUNT из файла config.py.<br>\n",
    "<br>\n",
    "На каждой итерации цикла выбирается SELF или RANDOM транзакция.<br>\n",
    "<br>\n",
    "Если срабатывает блок except, записывается отчет с пустыми параметрами (прочерками), с приватным ключом и сообщением, что возникла системная ошибка."
   ]
  },
  {
   "cell_type": "code",
   "execution_count": 32,
   "id": "464fd200",
   "metadata": {},
   "outputs": [],
   "source": [
    "def main_function_make_random_or_self_txns(private_key):\n",
    "    try:\n",
    "        for chain in map(chain_settings.__dict__.get, chain_settings.__all__):\n",
    "            chain_name = chain['name']\n",
    "\n",
    "            print(f'Process has been launched for {private_key[:6]}...{private_key[-6:]} on the network {chain_name}')\n",
    "\n",
    "            web3 = Web3(Web3.HTTPProvider(chain['url']))\n",
    "\n",
    "            if not web3.is_connected():\n",
    "                print(f'Connection to {chain_name} is not established', '\\n')\n",
    "\n",
    "                my_address = web3.eth.account.from_key(private_key).address\n",
    "                save_report_to_global_list(chain_name, my_address,\n",
    "                                           '-', 'ERROR',\n",
    "                                           '-', '-',\n",
    "                                           'Connection is not established')\n",
    "                time.sleep(5)\n",
    "                continue\n",
    "\n",
    "            print(f'Connection to {chain_name} was established', '\\n')\n",
    "\n",
    "            transactions_quantity = create_random_value_from_range(chain['min_transactions'],\n",
    "                                                                   chain['max_transactions'])\n",
    "\n",
    "            for _ in range(transactions_quantity):\n",
    "                amount = create_random_amount_for_sending(chain['min_amount_for_sending'],\n",
    "                                                          chain['max_amount_for_sending'],\n",
    "                                                          NUMBER_OF_VARIATIONS_BETWEEN_SENDING_AMOUNT)\n",
    "\n",
    "                random.choice([self_transaction, random_transaction])(web3, amount, private_key,\n",
    "                                                                      MIN_TIMESLEEP_BETWEEN_TRANSACTIONS,\n",
    "                                                                      MAX_TIMESLEEP_BETWEEN_TRANSACTIONS,\n",
    "                                                                      chain_name, chain['explorer_url'])\n",
    "\n",
    "    except Exception as error:\n",
    "        print(error, '\\n')\n",
    "        save_report_to_global_list('-', private_key,\n",
    "                                   '-', 'ERROR',\n",
    "                                   '-', '-',\n",
    "                                   'Some system error occurred during the process.')"
   ]
  },
  {
   "cell_type": "markdown",
   "id": "5fd352b6",
   "metadata": {},
   "source": [
    "## Модуль main.py"
   ]
  },
  {
   "cell_type": "markdown",
   "id": "e77b80a4",
   "metadata": {},
   "source": [
    "Из модуля с functions импортируется главная функция и функция для создания отчета. Из файла config импортируется переменная с названием txt файла с приватными ключами:"
   ]
  },
  {
   "cell_type": "code",
   "execution_count": 34,
   "id": "c4911f70",
   "metadata": {},
   "outputs": [],
   "source": [
    "from functions import main_function_make_random_or_self_txns, export_report\n",
    "from config import TXT_WITH_PRIVATE_KEYS"
   ]
  },
  {
   "cell_type": "markdown",
   "id": "f34a3239",
   "metadata": {},
   "source": [
    "В главной функции в список list_of_private_keys добавляются все приватные ключи из txt-файла. В цикле каждый ключ передается в функцию main_function_make_random_or_self_txns, в которой выпоняется весь процесс:"
   ]
  },
  {
   "cell_type": "code",
   "execution_count": 35,
   "id": "6a6acb42",
   "metadata": {},
   "outputs": [],
   "source": [
    "def main():\n",
    "    with open(TXT_WITH_PRIVATE_KEYS) as file:\n",
    "        list_of_private_keys = [line.strip() for line in file.readlines()]\n",
    "\n",
    "    for private_key in list_of_private_keys:\n",
    "        main_function_make_random_or_self_txns(private_key)\n",
    "\n",
    "    export_report()"
   ]
  },
  {
   "cell_type": "markdown",
   "id": "fcb82433",
   "metadata": {},
   "source": [
    "Точка входа:"
   ]
  },
  {
   "cell_type": "code",
   "execution_count": 36,
   "id": "38bf9a73",
   "metadata": {
    "scrolled": true
   },
   "outputs": [
    {
     "name": "stdout",
     "output_type": "stream",
     "text": [
      "Process has been launched for 4b63b8...cc8bc3 on the network Binance Smart Chain\n",
      "Connection to Binance Smart Chain was established \n",
      "\n",
      "Key 4b63b8...cc8bc3, RANDOM-transaction Binance Smart Chain \n",
      "\n",
      "Hash RANDOM-transaction Binance Smart Chain 0x08dc9dc4f370234f1ab7da0055467aff7bb6a57a23819d86e32f339487fd1ea3\n",
      "Recording data in a report\n",
      "Pause 8 sec. after RANDOM-transaction Binance Smart Chain  \n",
      "\n",
      "Key 4b63b8...cc8bc3, SELF-transaction Binance Smart Chain\n",
      "Hash SELF-transaction Binance Smart Chain 0x2e0d1b81fdb13a99641152aa663da43145fde0c5851144775158c22b3b620de0\n",
      "Recording data in a report\n",
      "Pause 6 sec. after SELF-transaction Binance Smart Chain  \n",
      "\n",
      "Key 4b63b8...cc8bc3, RANDOM-transaction Binance Smart Chain \n",
      "\n",
      "Hash RANDOM-transaction Binance Smart Chain 0x3ebb6e5de811a39f53e25251dfc347c1131060648f41ababc51a58965b4d607b\n",
      "Recording data in a report\n",
      "Pause 8 sec. after RANDOM-transaction Binance Smart Chain  \n",
      "\n",
      "Process has been launched for 4b63b8...cc8bc3 on the network Polygon\n",
      "Connection to Polygon was established \n",
      "\n",
      "Key 4b63b8...cc8bc3, RANDOM-transaction Polygon \n",
      "\n",
      "Hash RANDOM-transaction Polygon 0x850f55d2fc5e037b4a8ba690c0749c5c6420361d4b844c9f4ea7b6bec322b7cb\n",
      "Recording data in a report\n",
      "Pause 8 sec. after RANDOM-transaction Polygon  \n",
      "\n",
      "Process has been launched for 964cf0...daca7d on the network Binance Smart Chain\n",
      "Connection to Binance Smart Chain was established \n",
      "\n",
      "Key 964cf0...daca7d, RANDOM-transaction Binance Smart Chain \n",
      "\n",
      "Hash RANDOM-transaction Binance Smart Chain 0x2505dd96fe03367e59a18887878a80c4598185e5405c8f33dc7d979c0023b85a\n",
      "Recording data in a report\n",
      "Pause 6 sec. after RANDOM-transaction Binance Smart Chain  \n",
      "\n",
      "Key 964cf0...daca7d, RANDOM-transaction Binance Smart Chain \n",
      "\n",
      "Hash RANDOM-transaction Binance Smart Chain 0x7772bbe8d537e9eb0b895168c644f35105331fcb781916965d05c48fc1d017c5\n",
      "Recording data in a report\n",
      "Pause 8 sec. after RANDOM-transaction Binance Smart Chain  \n",
      "\n",
      "Process has been launched for 964cf0...daca7d on the network Polygon\n",
      "Connection to Polygon was established \n",
      "\n",
      "Key 964cf0...daca7d, SELF-transaction Polygon\n",
      "Hash SELF-transaction Polygon 0x5569242610f0fb8d254ef939ca398e3922ddb5091a5012a116cb97693ee9f351\n",
      "Recording data in a report\n",
      "Pause 5 sec. after SELF-transaction Polygon  \n",
      "\n",
      "Process has been launched for 11cf65...0edcfd on the network Binance Smart Chain\n",
      "Connection to Binance Smart Chain was established \n",
      "\n",
      "Key 11cf65...0edcfd, SELF-transaction Binance Smart Chain\n",
      "Hash SELF-transaction Binance Smart Chain 0x70649269f913de7b9edc4a37dcc91707d9dd5feda1c7e728fa2143a199c75336\n",
      "Recording data in a report\n",
      "Pause 9 sec. after SELF-transaction Binance Smart Chain  \n",
      "\n",
      "Key 11cf65...0edcfd, RANDOM-transaction Binance Smart Chain \n",
      "\n",
      "Hash RANDOM-transaction Binance Smart Chain 0x5621adba38bf99740d1750b779eb804dfbb5676499296406f35412b9972cbc97\n",
      "Recording data in a report\n",
      "Pause 8 sec. after RANDOM-transaction Binance Smart Chain  \n",
      "\n",
      "Process has been launched for 11cf65...0edcfd on the network Polygon\n",
      "Connection to Polygon was established \n",
      "\n",
      "Key 11cf65...0edcfd, SELF-transaction Polygon\n",
      "Hash SELF-transaction Polygon 0xaae448a92ccf01ffcafc707428d82d0b29213780b4199fcbfdb53a7dd3e54737\n",
      "Recording data in a report\n",
      "Pause 8 sec. after SELF-transaction Polygon  \n",
      "\n"
     ]
    },
    {
     "ename": "KeyboardInterrupt",
     "evalue": "",
     "output_type": "error",
     "traceback": [
      "\u001b[0;31m---------------------------------------------------------------------------\u001b[0m",
      "\u001b[0;31mKeyboardInterrupt\u001b[0m                         Traceback (most recent call last)",
      "\u001b[0;32m<ipython-input-36-c7bc734e5e35>\u001b[0m in \u001b[0;36m<module>\u001b[0;34m\u001b[0m\n\u001b[1;32m      1\u001b[0m \u001b[0;32mif\u001b[0m \u001b[0m__name__\u001b[0m \u001b[0;34m==\u001b[0m \u001b[0;34m'__main__'\u001b[0m\u001b[0;34m:\u001b[0m\u001b[0;34m\u001b[0m\u001b[0;34m\u001b[0m\u001b[0m\n\u001b[0;32m----> 2\u001b[0;31m     \u001b[0mmain\u001b[0m\u001b[0;34m(\u001b[0m\u001b[0;34m)\u001b[0m\u001b[0;34m\u001b[0m\u001b[0;34m\u001b[0m\u001b[0m\n\u001b[0m",
      "\u001b[0;32m<ipython-input-35-4f5d5af3fa31>\u001b[0m in \u001b[0;36mmain\u001b[0;34m()\u001b[0m\n\u001b[1;32m      4\u001b[0m \u001b[0;34m\u001b[0m\u001b[0m\n\u001b[1;32m      5\u001b[0m     \u001b[0;32mfor\u001b[0m \u001b[0mprivate_key\u001b[0m \u001b[0;32min\u001b[0m \u001b[0mlist_of_private_keys\u001b[0m\u001b[0;34m:\u001b[0m\u001b[0;34m\u001b[0m\u001b[0;34m\u001b[0m\u001b[0m\n\u001b[0;32m----> 6\u001b[0;31m         \u001b[0mmain_function_make_random_or_self_txns\u001b[0m\u001b[0;34m(\u001b[0m\u001b[0mprivate_key\u001b[0m\u001b[0;34m)\u001b[0m\u001b[0;34m\u001b[0m\u001b[0;34m\u001b[0m\u001b[0m\n\u001b[0m\u001b[1;32m      7\u001b[0m \u001b[0;34m\u001b[0m\u001b[0m\n\u001b[1;32m      8\u001b[0m     \u001b[0mexport_report\u001b[0m\u001b[0;34m(\u001b[0m\u001b[0;34m)\u001b[0m\u001b[0;34m\u001b[0m\u001b[0;34m\u001b[0m\u001b[0m\n",
      "\u001b[0;32m<ipython-input-32-499aacc88187>\u001b[0m in \u001b[0;36mmain_function_make_random_or_self_txns\u001b[0;34m(private_key)\u001b[0m\n\u001b[1;32m     32\u001b[0m                                                                       \u001b[0mMIN_TIMESLEEP_BETWEEN_TRANSACTIONS\u001b[0m\u001b[0;34m,\u001b[0m\u001b[0;34m\u001b[0m\u001b[0;34m\u001b[0m\u001b[0m\n\u001b[1;32m     33\u001b[0m                                                                       \u001b[0mMAX_TIMESLEEP_BETWEEN_TRANSACTIONS\u001b[0m\u001b[0;34m,\u001b[0m\u001b[0;34m\u001b[0m\u001b[0;34m\u001b[0m\u001b[0m\n\u001b[0;32m---> 34\u001b[0;31m                                                                       chain_name, chain['explorer_url'])\n\u001b[0m\u001b[1;32m     35\u001b[0m \u001b[0;34m\u001b[0m\u001b[0m\n\u001b[1;32m     36\u001b[0m     \u001b[0;32mexcept\u001b[0m \u001b[0mException\u001b[0m \u001b[0;32mas\u001b[0m \u001b[0merror\u001b[0m\u001b[0;34m:\u001b[0m\u001b[0;34m\u001b[0m\u001b[0;34m\u001b[0m\u001b[0m\n",
      "\u001b[0;32m<ipython-input-30-b1ed4ce29a70>\u001b[0m in \u001b[0;36mself_transaction\u001b[0;34m(web3, amount, private_key, min_timesleep_between_transactions, max_timesleep_between_transactions, chain_name, explorer_url)\u001b[0m\n\u001b[1;32m     26\u001b[0m                                                          max_timesleep_between_transactions)\n\u001b[1;32m     27\u001b[0m         \u001b[0mprint\u001b[0m\u001b[0;34m(\u001b[0m\u001b[0;34mf'Pause {timesleep_value} sec. after {transaction_type} {chain_name} '\u001b[0m\u001b[0;34m,\u001b[0m \u001b[0;34m'\\n'\u001b[0m\u001b[0;34m)\u001b[0m\u001b[0;34m\u001b[0m\u001b[0;34m\u001b[0m\u001b[0m\n\u001b[0;32m---> 28\u001b[0;31m         \u001b[0mtime\u001b[0m\u001b[0;34m.\u001b[0m\u001b[0msleep\u001b[0m\u001b[0;34m(\u001b[0m\u001b[0mtimesleep_value\u001b[0m\u001b[0;34m)\u001b[0m\u001b[0;34m\u001b[0m\u001b[0;34m\u001b[0m\u001b[0m\n\u001b[0m\u001b[1;32m     29\u001b[0m \u001b[0;34m\u001b[0m\u001b[0m\n\u001b[1;32m     30\u001b[0m     \u001b[0;32mexcept\u001b[0m \u001b[0mException\u001b[0m \u001b[0;32mas\u001b[0m \u001b[0merror\u001b[0m\u001b[0;34m:\u001b[0m\u001b[0;34m\u001b[0m\u001b[0;34m\u001b[0m\u001b[0m\n",
      "\u001b[0;31mKeyboardInterrupt\u001b[0m: "
     ]
    }
   ],
   "source": [
    "if __name__ == '__main__':\n",
    "    main()"
   ]
  },
  {
   "cell_type": "code",
   "execution_count": null,
   "id": "af68b14f",
   "metadata": {},
   "outputs": [],
   "source": []
  },
  {
   "cell_type": "markdown",
   "id": "b48a5c07",
   "metadata": {},
   "source": [
    "# Асинхронный вариант кода"
   ]
  },
  {
   "cell_type": "markdown",
   "id": "8f8a8cf6",
   "metadata": {},
   "source": [
    "В этом варианте для каждого вашего кошелька процессы будут выполняться одновременно. Чтобы управлять процессами реализована очередь, которая ограничивается параметром в настройках. Очередь заполняется продюсерами (producer), которые одновременно с другими процессами наполняют очередь до указанных в настройках размеров. Процессы с транзакциями выполняются консюмерами (consumer), или их можно назвать воркерами. Их количество тоже ограничивается в настройках."
   ]
  },
  {
   "cell_type": "markdown",
   "id": "9f01c1aa",
   "metadata": {},
   "source": [
    "## Модуль chain_settings.py"
   ]
  },
  {
   "cell_type": "markdown",
   "id": "624291fc",
   "metadata": {},
   "source": [
    "**Идентичный файл как в синхронном варианте, описанном выше.**"
   ]
  },
  {
   "cell_type": "markdown",
   "id": "3a689e07",
   "metadata": {},
   "source": [
    "В файле в виде словарей перечислены сети, в которых будут совершаться транзакции.\n",
    "\n",
    "Настройки сетей:<br>\n",
    "**name** - название сети, использует для вывода в консоль и в отчете<br>\n",
    "**url** - используется для подключения<br>\n",
    "<br>\n",
    "\n",
    "**min_amount_for_sending** - минимальная сумма для отправки<br>\n",
    "**max_amount_for_sending** - максимальная сумма для отправки<br>\n",
    "Из диапазона этих чисел будет определено случайное число для отправки.\n",
    "<br>\n",
    "<br>\n",
    "**min_transactions** - минимальное количество транзакций, которое должно быть совершено в сети<br>\n",
    "**max_transactions** - максимально<br>\n",
    "Из диапазона этих чисел будет определено случайное количество транзакций.\n",
    "<br>\n",
    "<br>\n",
    "**explorer_url** - url эксплорера, к которому будет подставлен хэш транзакции<br>\n",
    "<br>\n",
    "<br>\n",
    "Можно убрать параметры, если они избыточны, или добавить новые."
   ]
  },
  {
   "cell_type": "code",
   "execution_count": 51,
   "id": "9f3f48c9",
   "metadata": {},
   "outputs": [],
   "source": [
    "polygon = {\n",
    "            'name': 'Polygon',\n",
    "            'url':'https://polygon.llamarpc.com',\n",
    "            'min_amount_for_sending':0.0001,\n",
    "            'max_amount_for_sending':0.001,\n",
    "            'min_transactions':5,\n",
    "            'max_transactions':10,\n",
    "            'explorer_url':'https://polygonscan.com/tx/'\n",
    "            }"
   ]
  },
  {
   "cell_type": "code",
   "execution_count": 52,
   "id": "96bcd873",
   "metadata": {},
   "outputs": [],
   "source": [
    "bsc = {\n",
    "            'name': 'Binance Smart Chain',\n",
    "            'url':'https://bsc.publicnode.com',\n",
    "            'min_amount_for_sending':0.0001,\n",
    "            'max_amount_for_sending':0.001,\n",
    "            'min_transactions':5,\n",
    "            'max_transactions':10,\n",
    "            'explorer_url':'https://bscscan.com/tx/'\n",
    "            }"
   ]
  },
  {
   "cell_type": "code",
   "execution_count": 53,
   "id": "82927d9e",
   "metadata": {},
   "outputs": [],
   "source": [
    "avalanche = {\n",
    "            'name': 'Avalanche',\n",
    "            'url':'https://avalanche-c-chain.publicnode.com',\n",
    "            'min_amount_for_sending':0.0001,\n",
    "            'max_amount_for_sending':0.001,\n",
    "            'min_transactions':5,\n",
    "            'max_transactions':10,\n",
    "            'explorer_url':'https://snowtrace.io/tx/'\n",
    "            }"
   ]
  },
  {
   "cell_type": "markdown",
   "id": "1c80f8c5",
   "metadata": {},
   "source": [
    "После того, как вы задали пресеты для сетей, в список _ _all_ _ передайте названия сетей (словари), которые будут использоваться для отправки."
   ]
  },
  {
   "cell_type": "code",
   "execution_count": 54,
   "id": "4473626c",
   "metadata": {},
   "outputs": [],
   "source": [
    "__all__ = ['polygon', 'bsc', 'avalanche']"
   ]
  },
  {
   "cell_type": "markdown",
   "id": "0422dc79",
   "metadata": {},
   "source": [
    "## Config.py"
   ]
  },
  {
   "cell_type": "markdown",
   "id": "da1b2fce",
   "metadata": {},
   "source": [
    "**В отличии от синхронного варианта содержит дополнительные насройки для управления асинхронными процессами.**"
   ]
  },
  {
   "cell_type": "markdown",
   "id": "b38dffb0",
   "metadata": {},
   "source": [
    "Название файла с приватниками:"
   ]
  },
  {
   "cell_type": "code",
   "execution_count": 55,
   "id": "172a876c",
   "metadata": {},
   "outputs": [],
   "source": [
    "TXT_WITH_PRIVATE_KEYS = 'private_keys.txt'"
   ]
  },
  {
   "cell_type": "markdown",
   "id": "a784a109",
   "metadata": {},
   "source": [
    "Название для таблицы с отчетом, которая будет создана:"
   ]
  },
  {
   "cell_type": "code",
   "execution_count": 56,
   "id": "f5fc8d1a",
   "metadata": {},
   "outputs": [],
   "source": [
    "REPORT_TABLE_NAME = 'report_table.csv'"
   ]
  },
  {
   "cell_type": "markdown",
   "id": "73ab06b4",
   "metadata": {},
   "source": [
    "Количество вариаций, которое будет в диапазоне между min_amount_for_sending и max_amount_for_sending - в настройках chain_settings.py. Из всех вариантов будет рандомно выбрана сумма для отправки:"
   ]
  },
  {
   "cell_type": "code",
   "execution_count": 57,
   "id": "f75a4111",
   "metadata": {},
   "outputs": [],
   "source": [
    "NUMBER_OF_VARIATION_BETWEEN_VALUES = 50"
   ]
  },
  {
   "cell_type": "markdown",
   "id": "2368ec2e",
   "metadata": {},
   "source": [
    "Минимальная задержка между транзакциями:"
   ]
  },
  {
   "cell_type": "code",
   "execution_count": 58,
   "id": "07f028c1",
   "metadata": {},
   "outputs": [],
   "source": [
    "MIN_TIMESLEEP_BETWEEN_TRANSACTIONS = 100"
   ]
  },
  {
   "cell_type": "markdown",
   "id": "efdf7df4",
   "metadata": {},
   "source": [
    "Максимальная задержка между транзакциями:"
   ]
  },
  {
   "cell_type": "code",
   "execution_count": 59,
   "id": "0d18c296",
   "metadata": {},
   "outputs": [],
   "source": [
    "MAX_TIMESLEEP_BETWEEN_TRANSACTIONS = 250"
   ]
  },
  {
   "cell_type": "markdown",
   "id": "e6529d37",
   "metadata": {},
   "source": [
    "Из этого диапазона будет выбрано рандомное значение, на которое скрипт остановится перед тем, как сделать новую транзакцию. Ставьте значения побольше, чтобы скрипт не делал несколько транзакций за минуту."
   ]
  },
  {
   "cell_type": "markdown",
   "id": "7cf41b0e",
   "metadata": {},
   "source": [
    "Количество одновременно работающих процессов (консюмеров/воркеров):"
   ]
  },
  {
   "cell_type": "code",
   "execution_count": 60,
   "id": "484f41ee",
   "metadata": {},
   "outputs": [],
   "source": [
    "NUMBER_OF_PROCESSES = 4"
   ]
  },
  {
   "cell_type": "markdown",
   "id": "8fb71c51",
   "metadata": {},
   "source": [
    "Перед стартом каждого процесса есть небольшая задержка. Число рандомно генерируется из диапазона:"
   ]
  },
  {
   "cell_type": "code",
   "execution_count": 61,
   "id": "2f9480b6",
   "metadata": {},
   "outputs": [],
   "source": [
    "MIN_TIMESLEEP_BETWEEN_PROCESSES = 50"
   ]
  },
  {
   "cell_type": "code",
   "execution_count": 62,
   "id": "24cf612b",
   "metadata": {},
   "outputs": [],
   "source": [
    "MAX_TIMESLEEP_BETWEEN_PROCESSES = 100"
   ]
  },
  {
   "cell_type": "markdown",
   "id": "7c487c7e",
   "metadata": {},
   "source": [
    "Список кодов цветов, которыми будут подсвечены разные процессы в терминале, чтобы чуть легче было их наблюдать:"
   ]
  },
  {
   "cell_type": "code",
   "execution_count": 63,
   "id": "5583f6af",
   "metadata": {},
   "outputs": [],
   "source": [
    "colors = ['\\033[32m',\n",
    "          '\\033[33m',\n",
    "          '\\033[34m',\n",
    "          '\\033[35m',\n",
    "          '\\033[36m',\n",
    "          '\\033[37m']"
   ]
  },
  {
   "cell_type": "markdown",
   "id": "66871027",
   "metadata": {},
   "source": [
    "## Модуль functions.py"
   ]
  },
  {
   "cell_type": "markdown",
   "id": "b5208196",
   "metadata": {},
   "source": [
    "### Библиотеки"
   ]
  },
  {
   "cell_type": "code",
   "execution_count": 38,
   "id": "8df2719f",
   "metadata": {},
   "outputs": [],
   "source": [
    "import asyncio\n",
    "import random\n",
    "from datetime import datetime\n",
    "\n",
    "import numpy as np\n",
    "import pandas as pd\n",
    "\n",
    "from config import REPORT_TABLE_NAME"
   ]
  },
  {
   "cell_type": "markdown",
   "id": "a7a1c076",
   "metadata": {},
   "source": [
    "**asyncio** - библиотека для асинхронного программирования<br>\n",
    "**random** - для рандомизации<br>\n",
    "**datetime** - дата, которая испоьзуется в отчете<br>\n",
    "**pandas** - инструмент для работы с таблицами, используется для загрузки/создания таблицы с отчетом, для записи данных<br>\n",
    "**numpy** - используется для создания диапазона из любых видов чисел - целых или десятичных<br>\n",
    "**config** - из файла явно импортируется название csv для отчета<br>"
   ]
  },
  {
   "cell_type": "markdown",
   "id": "110e7fc0",
   "metadata": {},
   "source": [
    "### Создание отчета"
   ]
  },
  {
   "cell_type": "markdown",
   "id": "a2b76611",
   "metadata": {},
   "source": [
    "Для отчетов создается пустой лист:"
   ]
  },
  {
   "cell_type": "code",
   "execution_count": 19,
   "id": "0e1fe70c",
   "metadata": {},
   "outputs": [],
   "source": [
    "global_list_for_report = list()"
   ]
  },
  {
   "cell_type": "markdown",
   "id": "2c6cb481",
   "metadata": {},
   "source": [
    "Создается замок:"
   ]
  },
  {
   "cell_type": "code",
   "execution_count": 39,
   "id": "e17ba149",
   "metadata": {},
   "outputs": [],
   "source": [
    "lock = asyncio.Lock()"
   ]
  },
  {
   "cell_type": "markdown",
   "id": "1b425ad9",
   "metadata": {},
   "source": [
    "#### Создание отчета"
   ]
  },
  {
   "cell_type": "markdown",
   "id": "b1462c9b",
   "metadata": {},
   "source": [
    "Принимает название чейна, публичный адрес кошелька, тип транзакции, статус транзакции, количество отправленных монет, url для просмотра транзакции, ошибку. Все записывается в словарь, затем добавляется в список global_list_for_report. Запись блокируется замком (async with lock), чтобы предотвратить одновременное записывание данных асинхронными функциями (корутинами) в список для отчета global_list_for_report:"
   ]
  },
  {
   "cell_type": "code",
   "execution_count": 40,
   "id": "e345cb7b",
   "metadata": {},
   "outputs": [],
   "source": [
    "async def save_report_to_global_list(chain_name, wallet_address,\n",
    "                                     transaction_type, transaction_status,\n",
    "                                     amount, transaction_explorer_url, error):\n",
    "    async with lock:\n",
    "        d = dict()\n",
    "        d['chain_name'] = chain_name\n",
    "        d['wallet_address'] = wallet_address\n",
    "        d['transaction_type'] = transaction_type\n",
    "        d['transaction_status'] = transaction_status\n",
    "        d['sent_amount'] = amount\n",
    "        d['transaction_url'] = transaction_explorer_url\n",
    "        d['date'] = datetime.now().strftime('%d-%m-%Y')\n",
    "        d['error'] = error\n",
    "\n",
    "        global global_list_for_report\n",
    "        global_list_for_report.append(d)"
   ]
  },
  {
   "cell_type": "markdown",
   "id": "e8d2734b",
   "metadata": {},
   "source": [
    "Экспорт отчета в csv. Из списка со словарями global_list_for_report создается датафрейм и экспортируется в csv. Возможно не эргономично использовать мощный pandas для такой задачи, но код очень удобный:)<br>\n",
    "Функция остается обычной (синхронной):"
   ]
  },
  {
   "cell_type": "code",
   "execution_count": 41,
   "id": "ee9d2c31",
   "metadata": {},
   "outputs": [],
   "source": [
    "def export_report():\n",
    "    global global_list_for_report\n",
    "    df = pd.DataFrame.from_dict(global_list_for_report)\n",
    "    df.to_csv(REPORT_TABLE_NAME, index=False)"
   ]
  },
  {
   "cell_type": "markdown",
   "id": "798ff8cd",
   "metadata": {},
   "source": [
    "### Рандомный выбор значений"
   ]
  },
  {
   "cell_type": "markdown",
   "id": "91fd3e10",
   "metadata": {},
   "source": [
    "**Эти функции остались такими же как в варианте с синхронным кодом, описанным выше. Эти функции остались синхронными, т.к. осуществляют вычисления и не занимаются вводом выводом данных. Так же я посчитал, что их не нужно помещать в отдельный поток, т.к. они очень быстро исполняются.**"
   ]
  },
  {
   "cell_type": "markdown",
   "id": "835b5a9e",
   "metadata": {},
   "source": [
    "Функция, которая возвращает рандомное значение из диапазона:"
   ]
  },
  {
   "cell_type": "code",
   "execution_count": 42,
   "id": "6d41d2d4",
   "metadata": {},
   "outputs": [],
   "source": [
    "def create_random_value_from_range(min_value, max_value):\n",
    "    random_value_between_range = random.choice(range(min_value, max_value))\n",
    "\n",
    "    return random_value_between_range"
   ]
  },
  {
   "cell_type": "markdown",
   "id": "a4f3fc17",
   "metadata": {},
   "source": [
    "### Рандомный выбор количества монет для отправки"
   ]
  },
  {
   "cell_type": "markdown",
   "id": "e55919a3",
   "metadata": {},
   "source": [
    "Принимает минимальное и максимальное значение из настроек чейнов и количество вариаций. Для этой задачи используется numpy linspace, который создает диапазон из чисел с плавающей точкой, чтобы можно было отправлять маленькие суммы:"
   ]
  },
  {
   "cell_type": "code",
   "execution_count": 43,
   "id": "15261613",
   "metadata": {},
   "outputs": [],
   "source": [
    "def create_random_amount_for_sending(min_value_for_sending, max_value_for_sending,\n",
    "                                     number_of_variations_between_sending_amount):\n",
    "    random_position = random.choice(range(number_of_variations_between_sending_amount))\n",
    "\n",
    "    random_amount_for_sending = np.linspace(min_value_for_sending,\n",
    "                                            max_value_for_sending,\n",
    "                                            num=number_of_variations_between_sending_amount)[random_position]\n",
    "\n",
    "    return random_amount_for_sending"
   ]
  },
  {
   "cell_type": "markdown",
   "id": "1c9bea43",
   "metadata": {},
   "source": [
    "numpy linspace возвращает количество значений в диапазоне"
   ]
  },
  {
   "cell_type": "code",
   "execution_count": 44,
   "id": "d19e00f2",
   "metadata": {
    "scrolled": true
   },
   "outputs": [
    {
     "data": {
      "text/plain": [
       "array([0.001     , 0.02138776, 0.04177551, 0.06216327, 0.08255102,\n",
       "       0.10293878, 0.12332653, 0.14371429, 0.16410204, 0.1844898 ,\n",
       "       0.20487755, 0.22526531, 0.24565306, 0.26604082, 0.28642857,\n",
       "       0.30681633, 0.32720408, 0.34759184, 0.36797959, 0.38836735,\n",
       "       0.4087551 , 0.42914286, 0.44953061, 0.46991837, 0.49030612,\n",
       "       0.51069388, 0.53108163, 0.55146939, 0.57185714, 0.5922449 ,\n",
       "       0.61263265, 0.63302041, 0.65340816, 0.67379592, 0.69418367,\n",
       "       0.71457143, 0.73495918, 0.75534694, 0.77573469, 0.79612245,\n",
       "       0.8165102 , 0.83689796, 0.85728571, 0.87767347, 0.89806122,\n",
       "       0.91844898, 0.93883673, 0.95922449, 0.97961224, 1.        ])"
      ]
     },
     "execution_count": 44,
     "metadata": {},
     "output_type": "execute_result"
    }
   ],
   "source": [
    "np.linspace(0.001, 1, num=50)"
   ]
  },
  {
   "cell_type": "markdown",
   "id": "35539ba1",
   "metadata": {},
   "source": [
    "Из диапазона, который равен количеству вариаций выбирается число"
   ]
  },
  {
   "cell_type": "code",
   "execution_count": 25,
   "id": "10b2aef6",
   "metadata": {},
   "outputs": [
    {
     "data": {
      "text/plain": [
       "22"
      ]
     },
     "execution_count": 25,
     "metadata": {},
     "output_type": "execute_result"
    }
   ],
   "source": [
    "random.choice(range(50))"
   ]
  },
  {
   "cell_type": "markdown",
   "id": "331fc9a6",
   "metadata": {},
   "source": [
    "Которое используется в качестве случайного индекса для выбора числа из numpy linspace"
   ]
  },
  {
   "cell_type": "code",
   "execution_count": 27,
   "id": "108eda8d",
   "metadata": {},
   "outputs": [
    {
     "data": {
      "text/plain": [
       "0.449530612244898"
      ]
     },
     "execution_count": 27,
     "metadata": {},
     "output_type": "execute_result"
    }
   ],
   "source": [
    "np.linspace(0.001, 1, num=50)[22]"
   ]
  },
  {
   "cell_type": "markdown",
   "id": "8e60002d",
   "metadata": {},
   "source": [
    "Такое количество монет будет использовано в транзакции"
   ]
  },
  {
   "cell_type": "markdown",
   "id": "2982832f",
   "metadata": {},
   "source": [
    "## Транзакции"
   ]
  },
  {
   "cell_type": "markdown",
   "id": "7cfa6e18",
   "metadata": {},
   "source": [
    "### Настройка транзакции"
   ]
  },
  {
   "cell_type": "markdown",
   "id": "e3bab893",
   "metadata": {},
   "source": [
    "Принимает подключение, адрес отправителя, адрес получателя, количество монет для отправки.<br>\n",
    "В amount_wei конвертируется отправляемое значение из ether в wei. await не нужен.<br>\n",
    "В gas_price определяется цена газа, в estimated_gas оценка лимита газа для отправки крипты.<br>\n",
    "В nonce определяется номер транзакции.<br>\n",
    "В словаре transaction записываются все параметры будущей транзакции.<br>\n",
    "Функция возращает словарь transaction."
   ]
  },
  {
   "cell_type": "code",
   "execution_count": 45,
   "id": "9a64573a",
   "metadata": {},
   "outputs": [],
   "source": [
    "async def transaction_settings(web3, from_address, to_address, amount):\n",
    "    amount_wei = web3.to_wei(amount, 'ether')\n",
    "\n",
    "    gas_price = await web3.eth.gas_price\n",
    "\n",
    "    estimated_gas = await web3.eth.estimate_gas({\n",
    "        'to': to_address,\n",
    "        'value': amount_wei,\n",
    "    })\n",
    "\n",
    "    nonce = await web3.eth.get_transaction_count(from_address)\n",
    "\n",
    "    transaction = {\n",
    "        'chainId': await web3.eth.chain_id,\n",
    "        'from': from_address,\n",
    "        'to': to_address,\n",
    "        'value': amount_wei,\n",
    "        'nonce': nonce,\n",
    "        'gasPrice': gas_price,\n",
    "        'gas': estimated_gas,\n",
    "    }\n",
    "\n",
    "    return transaction"
   ]
  },
  {
   "cell_type": "markdown",
   "id": "5666db06",
   "metadata": {},
   "source": [
    "### Подпись и отправка транзакции"
   ]
  },
  {
   "cell_type": "markdown",
   "id": "8af1cc08",
   "metadata": {},
   "source": [
    "Принимает подключение, адрес отправителя, адрес получателя, количество монет для отправки, приватный ключ.<br>\n",
    "Настройки будущей транзы записываются в create_transaction.<br>\n",
    "В signed_transaction передаются настройки и приватный ключ, транзакция подписывается. await не нужен.<br>\n",
    "В transaction_hash записывается хэш отправленной транзакции.<br>\n",
    "Функция возвращает хэш."
   ]
  },
  {
   "cell_type": "code",
   "execution_count": 46,
   "id": "85fca72a",
   "metadata": {},
   "outputs": [],
   "source": [
    "async def create_sign_send_transaction(web3, from_address, to_address, amount, private_key):\n",
    "    create_transaction = await transaction_settings(\n",
    "        web3=web3,\n",
    "        from_address=from_address,\n",
    "        to_address=to_address,\n",
    "        amount=amount\n",
    "    )\n",
    "\n",
    "    signed_transaction = web3.eth.account.sign_transaction(create_transaction, private_key)\n",
    "\n",
    "    transaction_hash = await web3.eth.send_raw_transaction(signed_transaction.rawTransaction)\n",
    "\n",
    "    return transaction_hash.hex()"
   ]
  },
  {
   "cell_type": "markdown",
   "id": "75b88540",
   "metadata": {},
   "source": [
    "### SELF транзакция"
   ]
  },
  {
   "cell_type": "markdown",
   "id": "bbbc0e41",
   "metadata": {},
   "source": [
    "Принимает подключение, количество монет для отправки, приватник, минимальную и максимальную задержку между транзакциями, название чейна и url эксплорера. В отличии от синхронного варианта принимает номер процесса и кодировку цвета, чтобы обозначить исполняемый процесс в терминале.<br>\n",
    "<br>\n",
    "Перед отправкой в timesleep_value генерируется рандомное число из небольшого диапазона, скрипт останавливается на это время.<br>\n",
    "<br>\n",
    "В my_address записывается публичный адрес, который определяется из приватного ключа. await не нужен.<br>\n",
    "<br>\n",
    "В create_sign_send_transaction осуществляется отправка, в качестве отправителя и получателя передается my_address. Хэш записывается в transaction_hash.<br>\n",
    "<br>\n",
    "В save_report_to_global_list записывается отчет, в функцию передается название сети, публичный адрес, тип транзакции, статус SUCCESS, сумма, url, который получается в результате подстановки параметра из chain_settings.py и хэша транзы, ошибки нет, поэтому передается прочерк.<br>\n",
    "<br>\n",
    "В timesleep_value генерируется рандомное число из переданных в функцию значений. Скрипт засыпает.<br>\n",
    "<br>\n",
    "Если срабатывает блок except, в отчет записывается название сети, публичный адрес, тип транзакции, статус ERROR, сумма, вместо url передается прочерк, код ошибки."
   ]
  },
  {
   "cell_type": "code",
   "execution_count": 47,
   "id": "0c2df3ac",
   "metadata": {},
   "outputs": [],
   "source": [
    "async def self_transaction(web3, amount, private_key,\n",
    "                           min_timesleep_between_transactions,\n",
    "                           max_timesleep_between_transactions,\n",
    "                           chain_name, explorer_url,\n",
    "                           number_of_process, color):\n",
    "\n",
    "    try:\n",
    "        timesleep_value = create_random_value_from_range(5, 15)\n",
    "        await asyncio.sleep(timesleep_value)\n",
    "\n",
    "        transaction_type = 'SELF-transaction'\n",
    "        print(f'{color}Process №{number_of_process}, key {private_key[:6]}...{private_key[-6:]}, {transaction_type} {chain_name}')\n",
    "\n",
    "        my_address = web3.eth.account.from_key(private_key).address\n",
    "\n",
    "        transaction_hash = await create_sign_send_transaction(web3, my_address, my_address,\n",
    "                                                              amount, private_key)\n",
    "\n",
    "        print(f'{color}Process №{number_of_process}, hash {transaction_type} {chain_name} {transaction_hash}')\n",
    "\n",
    "        print(f'{color}Process №{number_of_process}, recording data in a report')\n",
    "        await save_report_to_global_list(chain_name, my_address,\n",
    "                                         transaction_type, 'SUCCESS',\n",
    "                                         amount, f'{explorer_url}{transaction_hash}', '-')\n",
    "\n",
    "        timesleep_value = create_random_value_from_range(min_timesleep_between_transactions,\n",
    "                                                         max_timesleep_between_transactions)\n",
    "        print(f'{color}Process №{number_of_process}, pause {timesleep_value} sec. after {transaction_type} {chain_name} ', '\\n')\n",
    "        await asyncio.sleep(timesleep_value)\n",
    "\n",
    "    except Exception as error:\n",
    "        print(f'{color}Process №{number_of_process}, {transaction_type} {chain_name}, error -  {error}', '\\n')\n",
    "        await save_report_to_global_list(chain_name, my_address,\n",
    "                                         transaction_type, 'ERROR',\n",
    "                                         amount, '-', error)"
   ]
  },
  {
   "cell_type": "markdown",
   "id": "51a8d5be",
   "metadata": {},
   "source": [
    "### RANDOM транзакция"
   ]
  },
  {
   "cell_type": "markdown",
   "id": "4f9c1e7d",
   "metadata": {},
   "source": [
    "Почти такая же функция как self_transaction, отличается наличием кода на 13-17 строках.<br>\n",
    "<br>\n",
    "Принимает подключение, количество монет для отправки, приватник, минимальную и максимальную задержку между транзакциями, название чейна и url эксплорера. В отличии от синхронного варианта принимает номер процесса и кодировку цвета, чтобы обозначить исполняемый процесс в терминале.<br>\n",
    "<br>\n",
    "Перед отправкой в timesleep_value генерируется рандомное число из небольшого диапазона, скрипт останавливается на это время.<br>\n",
    "<br>\n",
    "В account создается новый аккаунт. В random_wallet записывается публичный адрес созданного аккаунта, на который будет осуществляться отправка. await не нужен.<br>\n",
    "<br>\n",
    "В my_address записывается публичный адрес, который определяется из приватного ключа. await не нужен.<br>\n",
    "<br>\n",
    "В prepared_wallet записывается созданный публичный адрес, приведенный к корректному виду с помощью to_checksum_address. await не нужен.<br>\n",
    "<br>\n",
    "В create_sign_send_transaction осуществляется отправка, в качестве отправителя и получателя передается my_address. Хэш записывается в transaction_hash.<br>\n",
    "<br>\n",
    "В save_report_to_global_list записывается отчет, в функцию передается название сети, публичный адрес, тип транзакции, статус SUCCESS, сумма, url, который получается в результате подстановки параметра из chain_settings.py и хэша транзы, ошибки нет, поэтому передается прочерк.<br>\n",
    "<br>\n",
    "В timesleep_value генерируется рандомное число из переданных в функцию значений. Скрипт засыпает.<br>\n",
    "<br>\n",
    "Если срабатывает блок except, в отчет записывается название сети, публичный адрес, тип транзакции, статус ERROR, сумма, вместо url передается прочерк, код ошибки."
   ]
  },
  {
   "cell_type": "code",
   "execution_count": 48,
   "id": "d2e9374e",
   "metadata": {},
   "outputs": [],
   "source": [
    "async def random_transaction(web3, amount, private_key,\n",
    "                             min_timesleep_between_transactions,\n",
    "                             max_timesleep_between_transactions,\n",
    "                             chain_name, explorer_url,\n",
    "                             number_of_process, color):\n",
    "    try:\n",
    "        timesleep_value = create_random_value_from_range(5, 15)\n",
    "        await asyncio.sleep(timesleep_value)\n",
    "\n",
    "        transaction_type = 'RANDOM-transaction'\n",
    "        print(f'{color}Process №{number_of_process}, key {private_key[:6]}...{private_key[-6:]}, {transaction_type} {chain_name}', '\\n')\n",
    "\n",
    "        account = web3.eth.account.create()\n",
    "        random_wallet = account.address\n",
    "\n",
    "        my_address = web3.eth.account.from_key(private_key).address\n",
    "        prepared_wallet = web3.to_checksum_address(random_wallet)\n",
    "\n",
    "        transaction_hash = await create_sign_send_transaction(web3, my_address, prepared_wallet,\n",
    "                                                              amount, private_key)\n",
    "\n",
    "        print(f'{color}Process №{number_of_process}, hash {transaction_type} {chain_name} {transaction_hash}' )\n",
    "\n",
    "        print(f'{color}Process №{number_of_process}, recording data in a report')\n",
    "        await save_report_to_global_list(chain_name, my_address,\n",
    "                                         transaction_type, 'SUCCESS',\n",
    "                                         amount, f'{explorer_url}{transaction_hash}', '-')\n",
    "\n",
    "        timesleep_value = create_random_value_from_range(min_timesleep_between_transactions,\n",
    "                                                         max_timesleep_between_transactions)\n",
    "        print(f'{color}Process №{number_of_process}, pause {timesleep_value} sec. after {transaction_type} {chain_name} ', '\\n')\n",
    "        await asyncio.sleep(timesleep_value)\n",
    "\n",
    "    except Exception as error:\n",
    "        print(f'{color}Process №{number_of_process}, {transaction_type} {chain_name}, error -  {error}', '\\n')\n",
    "        await save_report_to_global_list(chain_name, my_address,\n",
    "                                         transaction_type, 'ERROR',\n",
    "                                         amount, '-', error)"
   ]
  },
  {
   "cell_type": "markdown",
   "id": "2e154f04",
   "metadata": {},
   "source": [
    "## Модуль main.py"
   ]
  },
  {
   "cell_type": "markdown",
   "id": "7c83cfde",
   "metadata": {},
   "source": [
    "### Библиотеки"
   ]
  },
  {
   "cell_type": "code",
   "execution_count": 50,
   "id": "698e5c64",
   "metadata": {},
   "outputs": [],
   "source": [
    "import asyncio\n",
    "\n",
    "from web3 import AsyncWeb3\n",
    "\n",
    "from functions import *\n",
    "from config import *\n",
    "import chain_settings"
   ]
  },
  {
   "cell_type": "markdown",
   "id": "fd55d89d",
   "metadata": {},
   "source": [
    "**asyncio** - библиотека для асинхронного программирования<br>\n",
    "**web3** - подключение к rpc, осуществление транзакций на блокчейнах.<br>\n",
    "**config** - импорт всех настроек из модуля<br>\n",
    "**functions** - импорт всех функций из модуля<br>\n",
    "**chain_settings** - импорт настроек для блокчейнов из модуля"
   ]
  },
  {
   "cell_type": "markdown",
   "id": "c45e0efc",
   "metadata": {},
   "source": [
    "### Функция продюсера"
   ]
  },
  {
   "cell_type": "markdown",
   "id": "16d61266",
   "metadata": {},
   "source": [
    "Принимает очередь, приватный ключ, номер. <br>\n",
    "Добавляет кортеж с приватным ключем и номером в очередь. На печать выводит сообщение, что приватный ключ добавлен в очередь под каким-то номером. Надпись выводится красным уветом на белом фоне:"
   ]
  },
  {
   "cell_type": "code",
   "execution_count": 64,
   "id": "f1447665",
   "metadata": {},
   "outputs": [],
   "source": [
    "async def producer(queue, private_key, number):\n",
    "    await queue.put((private_key, number))\n",
    "    print('\\n', f'\\033[31;47mPrivate key {private_key[:6]}...{private_key[-6:]} has been added to the queue. Queue №{number}\\033[0m',\n",
    "          '\\n')"
   ]
  },
  {
   "cell_type": "markdown",
   "id": "6e4ec122",
   "metadata": {},
   "source": [
    "### Функция консюмера"
   ]
  },
  {
   "cell_type": "markdown",
   "id": "033e5ec5",
   "metadata": {},
   "source": [
    "**Почти полностью повторяет код функции main_function_make_random_or_self_txns в синхронном варианте, описанном выше.**"
   ]
  },
  {
   "cell_type": "markdown",
   "id": "0ae3ebda",
   "metadata": {},
   "source": [
    "Принимает очередь и цвет.<br>\n",
    "<br>\n",
    "Запускается бесконечный цикл.<br>\n",
    "<br>\n",
    "queue.get() получает первый объект из очереди. Из кортежа в private_key записывается приватный ключ, в process_number записывается номер в очереди.<br>\n",
    "<br>\n",
    "В timesleep_value записывается рандомное значение, выранное из диапазона, который указывается в config.py. Процесс останавливается перед стартом. Таким образом все процессы стартуют в разное время.<br>\n",
    "<br>\n",
    "Запускается цикл, который перебирает словари из chain_settigs.py, указанные в _ _ all _ _<br>\n",
    "<br>\n",
    "\n",
    "В переменную web3 записывается объект созданного асинхронного подключения. Если подключение False (if not web3.is_connected()), процесс останавливается. Записывается в отчет. Для отчета в этой части кода генерируется публичный адрес my_address из приватника.<br>\n",
    "<br>\n",
    "В transactions_quantity записывается рандомное количество транзакций, которое будет совершено в сети. Число генерируется из диапазона, указанного в настройках в chain_settigs.py.<br>\n",
    "<br>\n",
    "Запускается цикл по количеству транзакций в значении transactions_quantity.<br>\n",
    "<br>\n",
    "В amount определяется случайная сумма к отправке, генерируется функцией create_random_amount_for_sending, которая берет диапазон из настроек chain_settigs.py и количество вариаций внутри этого диапазона NUMBER_OF_VARIATIONS_BETWEEN_SENDING_AMOUNT из файла config.py.<br>\n",
    "<br>\n",
    "На каждой итерации цикла выбирается SELF или RANDOM транзакция.<br>\n",
    "<br>\n",
    "queue.task_done() уведомляет очередь о том, что задача была выполнена, обращается к приватной переменной очереди Queue._unfinished_tasks, уменьшая ее значение.\n",
    "<br>\n",
    "<br>\n",
    "Если срабатывает блок except, записывается отчет с пустыми параметрами (прочерками), с приватным ключом и сообщением, что возникла системная ошибка.\n",
    "queue.task_done() уведомляет очередь о том, что задача была выполнена.\n"
   ]
  },
  {
   "cell_type": "code",
   "execution_count": 65,
   "id": "be216f3d",
   "metadata": {},
   "outputs": [],
   "source": [
    "async def consumer(queue, color):\n",
    "    while True:\n",
    "        item = await queue.get()\n",
    "        private_key, process_number = item\n",
    "\n",
    "        timesleep_value = create_random_value_from_range(MIN_TIMESLEEP_BETWEEN_PROCESSES,\n",
    "                                                         MAX_TIMESLEEP_BETWEEN_PROCESSES)\n",
    "\n",
    "        print(f'{color} ▶️ Before the start of the process №{process_number} {timesleep_value} sec.', '\\n')\n",
    "\n",
    "        await asyncio.sleep(timesleep_value)\n",
    "\n",
    "        try:\n",
    "            for chain in map(chain_settings.__dict__.get, chain_settings.__all__):\n",
    "                chain_name = chain['name']\n",
    "\n",
    "                print(f'{color}Process №{process_number} has been launched for {private_key[:6]}...{private_key[-6:]} on the network {chain_name}')\n",
    "\n",
    "                web3 = AsyncWeb3(AsyncWeb3.AsyncHTTPProvider(chain['url']))\n",
    "\n",
    "                if not await web3.is_connected():\n",
    "                    print(f'{color}Process №{process_number} connection to {chain_name} is not established', '\\n')\n",
    "\n",
    "                    my_address = web3.eth.account.from_key(private_key).address\n",
    "                    await save_report_to_global_list(chain_name, my_address,\n",
    "                                                     '-', 'ERROR',\n",
    "                                                     '-', '-',\n",
    "                                                     'Connection is not established')\n",
    "                    await asyncio.sleep(5)\n",
    "                    continue\n",
    "\n",
    "                print(f'{color}Process №{process_number} connection to {chain_name} was established', '\\n')\n",
    "\n",
    "                transactions_quantity = create_random_value_from_range(chain['min_transactions'],\n",
    "                                                                       chain['max_transactions'])\n",
    "\n",
    "                for _ in range(transactions_quantity):\n",
    "                    amount = create_random_amount_for_sending(chain['min_amount_for_sending'],\n",
    "                                                              chain['max_amount_for_sending'],\n",
    "                                                              NUMBER_OF_VARIATIONS_BETWEEN_SENDING_AMOUNT)\n",
    "\n",
    "                    await random.choice([self_transaction, random_transaction])(web3, amount, private_key,\n",
    "                                                                                MIN_TIMESLEEP_BETWEEN_TRANSACTIONS,\n",
    "                                                                                MAX_TIMESLEEP_BETWEEN_TRANSACTIONS,\n",
    "                                                                                chain_name, chain['explorer_url'],\n",
    "                                                                                process_number, color)\n",
    "\n",
    "            queue.task_done()\n",
    "\n",
    "        except Exception as error:\n",
    "            print(error, '\\n')\n",
    "            await save_report_to_global_list('-', private_key,\n",
    "                                             '-', 'ERROR',\n",
    "                                             '-', '-',\n",
    "                                             'Some system error occurred during the process.')\n",
    "            queue.task_done()"
   ]
  },
  {
   "cell_type": "markdown",
   "id": "7f0e6948",
   "metadata": {},
   "source": [
    "## Главная функция - событийный цикл"
   ]
  },
  {
   "cell_type": "markdown",
   "id": "861ef3f2",
   "metadata": {},
   "source": [
    "В queue создается очередь. В параметре maxsize задается максимальный размер очереди. В очередь помещается указанное количество элементов, когда элементы взяты в работу, в очередь снова добавляется указанное количество элементов. В моем примере размер очереди равен количеству одновременно запущенных процессов. Поэкспериментируйте с этим параметром, можете вообще его убрать.<br>\n",
    "<br>\n",
    "pended равен нулю, будет увеличиваться на 1 по мере добавления приватных ключей в очередь<br>\n",
    "<br>\n",
    "В список list_of_private_keys добавляются приватные ключи из txt файла.<br>\n",
    "<br>\n",
    "Создается пустой список продюсеров producers. Запускается цикл по списку с приватными ключами. pended увеличивается на 1. В task записывается объект класса Task, т.е в событийный цикл помещается задача с результатом работы функции producer, в которую передаю очередь, приватный ключ и pended - номер задачи в очереди.<br>\n",
    "<br>\n",
    "Создается пустой список продюсеров consumers. Количество консюмеров/воркеров ограничено параметром NUMBER_OF_PROCESSES в config.py. В task записывается объект класса Task, т.е в событийный цикл помещается задача с результатом работы функции consumer, в которую передаю очередь, код цвета, который определяется по индексу, который в свою очередь определяется случайно.<br>\n",
    "<br>\n",
    "В функции gather распаковывается списко задач producers. Продюсеры начинают создавать очередь. При этом в функции consumer запущен бесконечный цикл, который ожидает очередь и находится в событийном цикле благодаря create_task.\n",
    "<br>\n",
    "<br>\n",
    "queue.join() обращается к приватной переменной Queue._unfinished_tasks и ждет, когда очередь опустеет. Выше я писал, что в функции consumer queue.task_done() уменьшает значение этой переменной.<br>\n",
    "<br>\n",
    "Дополнительно, чтобы скрипт не повис, можно отменить все задачи консюмеров в событийном цикле. Цикл проходит списко задач consumers и отменяет их cancel()<br>\n",
    "<br>\n",
    "В конце функция export_report создает из списка global_list_for_report датафрейм и записывает его в csv."
   ]
  },
  {
   "cell_type": "code",
   "execution_count": 66,
   "id": "37bf447e",
   "metadata": {},
   "outputs": [],
   "source": [
    "async def main():\n",
    "    queue = asyncio.Queue(maxsize=NUMBER_OF_PROCESSES)\n",
    "    pended = 0\n",
    "\n",
    "    with open(TXT_WITH_PRIVATE_KEYS) as file:\n",
    "        list_of_private_keys = [line.strip() for line in file.readlines()]\n",
    "\n",
    "    producers = []\n",
    "    for private_key in list_of_private_keys:\n",
    "        pended += 1\n",
    "        task = asyncio.create_task(producer(queue, private_key, pended))\n",
    "        producers.append(task)\n",
    "\n",
    "    consumers = []\n",
    "    for _ in range(NUMBER_OF_PROCESSES):\n",
    "        task = asyncio.create_task(consumer(queue, colors[random.choice(range(len(colors)))]))\n",
    "        consumers.append(task)\n",
    "\n",
    "    await asyncio.gather(*producers)\n",
    "    await queue.join()\n",
    "\n",
    "    for c in consumers:\n",
    "        c.cancel()\n",
    "\n",
    "    export_report()"
   ]
  },
  {
   "cell_type": "markdown",
   "id": "ed0935ed",
   "metadata": {},
   "source": [
    "Точка входа:"
   ]
  },
  {
   "cell_type": "markdown",
   "id": "95af2989",
   "metadata": {},
   "source": [
    "**Чтобы запустить асинхронный скрипт в ipynb используйте этот костыль:**"
   ]
  },
  {
   "cell_type": "code",
   "execution_count": 68,
   "id": "aa3d3abc",
   "metadata": {},
   "outputs": [],
   "source": [
    "import nest_asyncio\n",
    "nest_asyncio.apply()"
   ]
  },
  {
   "cell_type": "code",
   "execution_count": 69,
   "id": "b698a0d3",
   "metadata": {
    "scrolled": true
   },
   "outputs": [
    {
     "name": "stdout",
     "output_type": "stream",
     "text": [
      "\n",
      " \u001b[31;47mPrivate key 4b63b8...cc8bc3 has been added to the queue. Queue №1\u001b[0m \n",
      "\n",
      "\n",
      " \u001b[31;47mPrivate key 964cf0...daca7d has been added to the queue. Queue №2\u001b[0m \n",
      "\n",
      "\n",
      " \u001b[31;47mPrivate key 11cf65...0edcfd has been added to the queue. Queue №3\u001b[0m \n",
      "\n",
      "\n",
      " \u001b[31;47mPrivate key ed6e99...8e7027 has been added to the queue. Queue №4\u001b[0m \n",
      "\n",
      "\u001b[35m ▶️ Before the start of the process №1 16 sec. \n",
      "\n",
      "\u001b[37m ▶️ Before the start of the process №2 15 sec. \n",
      "\n",
      "\u001b[34m ▶️ Before the start of the process №3 14 sec. \n",
      "\n",
      "\u001b[37m ▶️ Before the start of the process №4 11 sec. \n",
      "\n",
      "\n",
      " \u001b[31;47mPrivate key 3d6edd...9370db has been added to the queue. Queue №5\u001b[0m \n",
      "\n",
      "\n",
      " \u001b[31;47mPrivate key 1d9d73...2bdd12 has been added to the queue. Queue №6\u001b[0m \n",
      "\n",
      "\u001b[37mProcess №4 has been launched for ed6e99...8e7027 on the network Binance Smart Chain\n",
      "\u001b[37mProcess №4 connection to Binance Smart Chain was established \n",
      "\n",
      "\u001b[34mProcess №3 has been launched for 11cf65...0edcfd on the network Binance Smart Chain\n",
      "\u001b[34mProcess №3 connection to Binance Smart Chain was established \n",
      "\n",
      "\u001b[37mProcess №2 has been launched for 964cf0...daca7d on the network Binance Smart Chain\n",
      "\u001b[37mProcess №2 connection to Binance Smart Chain was established \n",
      "\n",
      "\u001b[35mProcess №1 has been launched for 4b63b8...cc8bc3 on the network Binance Smart Chain\n",
      "\u001b[35mProcess №1 connection to Binance Smart Chain was established \n",
      "\n",
      "\u001b[37mProcess №4, key ed6e99...8e7027, SELF-transaction Binance Smart Chain\n",
      "\u001b[37mProcess №4, hash SELF-transaction Binance Smart Chain 0xb57cb11f24ef9d0b4846e57e5457d6edcbc1cb23354247e0587ffa3446af9bd5\n",
      "\u001b[37mProcess №4, recording data in a report\n",
      "\u001b[37mProcess №4, pause 142 sec. after SELF-transaction Binance Smart Chain  \n",
      "\n",
      "\u001b[35mProcess №1, key 4b63b8...cc8bc3, SELF-transaction Binance Smart Chain\n",
      "\u001b[35mProcess №1, hash SELF-transaction Binance Smart Chain 0x0d7d0fc07ba9c9b312652472ccd4d1658d9d1458d2efb36c29390a4539fb91e0\n",
      "\u001b[35mProcess №1, recording data in a report\n",
      "\u001b[35mProcess №1, pause 167 sec. after SELF-transaction Binance Smart Chain  \n",
      "\n",
      "\u001b[34mProcess №3, key 11cf65...0edcfd, SELF-transaction Binance Smart Chain\n",
      "\u001b[37mProcess №2, key 964cf0...daca7d, RANDOM-transaction Binance Smart Chain \n",
      "\n",
      "\u001b[34mProcess №3, hash SELF-transaction Binance Smart Chain 0xdbaa663ff87ca7c20c43876b96a901e87f9edce42f7246802551fdcc3b6fd217\n",
      "\u001b[34mProcess №3, recording data in a report\n",
      "\u001b[34mProcess №3, pause 145 sec. after SELF-transaction Binance Smart Chain  \n",
      "\n",
      "\u001b[37mProcess №2, hash RANDOM-transaction Binance Smart Chain 0xb0d53dfb5cc6df274c30b24ffac7dade2ac7bc3547af3358a77b1c26107edccc\n",
      "\u001b[37mProcess №2, recording data in a report\n",
      "\u001b[37mProcess №2, pause 222 sec. after RANDOM-transaction Binance Smart Chain  \n",
      "\n"
     ]
    },
    {
     "ename": "KeyboardInterrupt",
     "evalue": "",
     "output_type": "error",
     "traceback": [
      "\u001b[0;31m---------------------------------------------------------------------------\u001b[0m",
      "\u001b[0;31mKeyboardInterrupt\u001b[0m                         Traceback (most recent call last)",
      "\u001b[0;32m<ipython-input-69-c21fc3fdb92b>\u001b[0m in \u001b[0;36m<module>\u001b[0;34m\u001b[0m\n\u001b[1;32m      1\u001b[0m \u001b[0;32mif\u001b[0m \u001b[0m__name__\u001b[0m \u001b[0;34m==\u001b[0m \u001b[0;34m'__main__'\u001b[0m\u001b[0;34m:\u001b[0m\u001b[0;34m\u001b[0m\u001b[0;34m\u001b[0m\u001b[0m\n\u001b[0;32m----> 2\u001b[0;31m     \u001b[0masyncio\u001b[0m\u001b[0;34m.\u001b[0m\u001b[0mrun\u001b[0m\u001b[0;34m(\u001b[0m\u001b[0mmain\u001b[0m\u001b[0;34m(\u001b[0m\u001b[0;34m)\u001b[0m\u001b[0;34m)\u001b[0m\u001b[0;34m\u001b[0m\u001b[0;34m\u001b[0m\u001b[0m\n\u001b[0m",
      "\u001b[0;32m~/opt/anaconda3/lib/python3.7/site-packages/nest_asyncio.py\u001b[0m in \u001b[0;36mrun\u001b[0;34m(future, debug)\u001b[0m\n\u001b[1;32m     30\u001b[0m         \u001b[0mloop\u001b[0m \u001b[0;34m=\u001b[0m \u001b[0masyncio\u001b[0m\u001b[0;34m.\u001b[0m\u001b[0mget_event_loop\u001b[0m\u001b[0;34m(\u001b[0m\u001b[0;34m)\u001b[0m\u001b[0;34m\u001b[0m\u001b[0;34m\u001b[0m\u001b[0m\n\u001b[1;32m     31\u001b[0m         \u001b[0mloop\u001b[0m\u001b[0;34m.\u001b[0m\u001b[0mset_debug\u001b[0m\u001b[0;34m(\u001b[0m\u001b[0mdebug\u001b[0m\u001b[0;34m)\u001b[0m\u001b[0;34m\u001b[0m\u001b[0;34m\u001b[0m\u001b[0m\n\u001b[0;32m---> 32\u001b[0;31m         \u001b[0;32mreturn\u001b[0m \u001b[0mloop\u001b[0m\u001b[0;34m.\u001b[0m\u001b[0mrun_until_complete\u001b[0m\u001b[0;34m(\u001b[0m\u001b[0mfuture\u001b[0m\u001b[0;34m)\u001b[0m\u001b[0;34m\u001b[0m\u001b[0;34m\u001b[0m\u001b[0m\n\u001b[0m\u001b[1;32m     33\u001b[0m \u001b[0;34m\u001b[0m\u001b[0m\n\u001b[1;32m     34\u001b[0m     \u001b[0;32mif\u001b[0m \u001b[0msys\u001b[0m\u001b[0;34m.\u001b[0m\u001b[0mversion_info\u001b[0m \u001b[0;34m>=\u001b[0m \u001b[0;34m(\u001b[0m\u001b[0;36m3\u001b[0m\u001b[0;34m,\u001b[0m \u001b[0;36m6\u001b[0m\u001b[0;34m,\u001b[0m \u001b[0;36m0\u001b[0m\u001b[0;34m)\u001b[0m\u001b[0;34m:\u001b[0m\u001b[0;34m\u001b[0m\u001b[0;34m\u001b[0m\u001b[0m\n",
      "\u001b[0;32m~/opt/anaconda3/lib/python3.7/site-packages/nest_asyncio.py\u001b[0m in \u001b[0;36mrun_until_complete\u001b[0;34m(self, future)\u001b[0m\n\u001b[1;32m     62\u001b[0m                 \u001b[0mf\u001b[0m\u001b[0;34m.\u001b[0m\u001b[0m_log_destroy_pending\u001b[0m \u001b[0;34m=\u001b[0m \u001b[0;32mFalse\u001b[0m\u001b[0;34m\u001b[0m\u001b[0;34m\u001b[0m\u001b[0m\n\u001b[1;32m     63\u001b[0m             \u001b[0;32mwhile\u001b[0m \u001b[0;32mnot\u001b[0m \u001b[0mf\u001b[0m\u001b[0;34m.\u001b[0m\u001b[0mdone\u001b[0m\u001b[0;34m(\u001b[0m\u001b[0;34m)\u001b[0m\u001b[0;34m:\u001b[0m\u001b[0;34m\u001b[0m\u001b[0;34m\u001b[0m\u001b[0m\n\u001b[0;32m---> 64\u001b[0;31m                 \u001b[0mself\u001b[0m\u001b[0;34m.\u001b[0m\u001b[0m_run_once\u001b[0m\u001b[0;34m(\u001b[0m\u001b[0;34m)\u001b[0m\u001b[0;34m\u001b[0m\u001b[0;34m\u001b[0m\u001b[0m\n\u001b[0m\u001b[1;32m     65\u001b[0m                 \u001b[0;32mif\u001b[0m \u001b[0mself\u001b[0m\u001b[0;34m.\u001b[0m\u001b[0m_stopping\u001b[0m\u001b[0;34m:\u001b[0m\u001b[0;34m\u001b[0m\u001b[0;34m\u001b[0m\u001b[0m\n\u001b[1;32m     66\u001b[0m                     \u001b[0;32mbreak\u001b[0m\u001b[0;34m\u001b[0m\u001b[0;34m\u001b[0m\u001b[0m\n",
      "\u001b[0;32m~/opt/anaconda3/lib/python3.7/site-packages/nest_asyncio.py\u001b[0m in \u001b[0;36m_run_once\u001b[0;34m(self)\u001b[0m\n\u001b[1;32m     85\u001b[0m             \u001b[0;32melse\u001b[0m \u001b[0mmin\u001b[0m\u001b[0;34m(\u001b[0m\u001b[0mmax\u001b[0m\u001b[0;34m(\u001b[0m\u001b[0mscheduled\u001b[0m\u001b[0;34m[\u001b[0m\u001b[0;36m0\u001b[0m\u001b[0;34m]\u001b[0m\u001b[0;34m.\u001b[0m\u001b[0m_when\u001b[0m \u001b[0;34m-\u001b[0m \u001b[0mnow\u001b[0m\u001b[0;34m,\u001b[0m \u001b[0;36m0\u001b[0m\u001b[0;34m)\u001b[0m\u001b[0;34m,\u001b[0m \u001b[0;36m86400\u001b[0m\u001b[0;34m)\u001b[0m \u001b[0;32mif\u001b[0m \u001b[0mscheduled\u001b[0m\u001b[0;34m\u001b[0m\u001b[0;34m\u001b[0m\u001b[0m\n\u001b[1;32m     86\u001b[0m             else None)\n\u001b[0;32m---> 87\u001b[0;31m         \u001b[0mevent_list\u001b[0m \u001b[0;34m=\u001b[0m \u001b[0mself\u001b[0m\u001b[0;34m.\u001b[0m\u001b[0m_selector\u001b[0m\u001b[0;34m.\u001b[0m\u001b[0mselect\u001b[0m\u001b[0;34m(\u001b[0m\u001b[0mtimeout\u001b[0m\u001b[0;34m)\u001b[0m\u001b[0;34m\u001b[0m\u001b[0;34m\u001b[0m\u001b[0m\n\u001b[0m\u001b[1;32m     88\u001b[0m         \u001b[0mself\u001b[0m\u001b[0;34m.\u001b[0m\u001b[0m_process_events\u001b[0m\u001b[0;34m(\u001b[0m\u001b[0mevent_list\u001b[0m\u001b[0;34m)\u001b[0m\u001b[0;34m\u001b[0m\u001b[0;34m\u001b[0m\u001b[0m\n\u001b[1;32m     89\u001b[0m \u001b[0;34m\u001b[0m\u001b[0m\n",
      "\u001b[0;32m~/opt/anaconda3/lib/python3.7/selectors.py\u001b[0m in \u001b[0;36mselect\u001b[0;34m(self, timeout)\u001b[0m\n\u001b[1;32m    556\u001b[0m             \u001b[0mready\u001b[0m \u001b[0;34m=\u001b[0m \u001b[0;34m[\u001b[0m\u001b[0;34m]\u001b[0m\u001b[0;34m\u001b[0m\u001b[0;34m\u001b[0m\u001b[0m\n\u001b[1;32m    557\u001b[0m             \u001b[0;32mtry\u001b[0m\u001b[0;34m:\u001b[0m\u001b[0;34m\u001b[0m\u001b[0;34m\u001b[0m\u001b[0m\n\u001b[0;32m--> 558\u001b[0;31m                 \u001b[0mkev_list\u001b[0m \u001b[0;34m=\u001b[0m \u001b[0mself\u001b[0m\u001b[0;34m.\u001b[0m\u001b[0m_selector\u001b[0m\u001b[0;34m.\u001b[0m\u001b[0mcontrol\u001b[0m\u001b[0;34m(\u001b[0m\u001b[0;32mNone\u001b[0m\u001b[0;34m,\u001b[0m \u001b[0mmax_ev\u001b[0m\u001b[0;34m,\u001b[0m \u001b[0mtimeout\u001b[0m\u001b[0;34m)\u001b[0m\u001b[0;34m\u001b[0m\u001b[0;34m\u001b[0m\u001b[0m\n\u001b[0m\u001b[1;32m    559\u001b[0m             \u001b[0;32mexcept\u001b[0m \u001b[0mInterruptedError\u001b[0m\u001b[0;34m:\u001b[0m\u001b[0;34m\u001b[0m\u001b[0;34m\u001b[0m\u001b[0m\n\u001b[1;32m    560\u001b[0m                 \u001b[0;32mreturn\u001b[0m \u001b[0mready\u001b[0m\u001b[0;34m\u001b[0m\u001b[0;34m\u001b[0m\u001b[0m\n",
      "\u001b[0;31mKeyboardInterrupt\u001b[0m: "
     ]
    }
   ],
   "source": [
    "if __name__ == '__main__':\n",
    "    asyncio.run(main())"
   ]
  },
  {
   "cell_type": "code",
   "execution_count": null,
   "id": "b21e13ee",
   "metadata": {},
   "outputs": [],
   "source": []
  }
 ],
 "metadata": {
  "kernelspec": {
   "display_name": "Python 3",
   "language": "python",
   "name": "python3"
  },
  "language_info": {
   "codemirror_mode": {
    "name": "ipython",
    "version": 3
   },
   "file_extension": ".py",
   "mimetype": "text/x-python",
   "name": "python",
   "nbconvert_exporter": "python",
   "pygments_lexer": "ipython3",
   "version": "3.7.9"
  }
 },
 "nbformat": 4,
 "nbformat_minor": 5
}
